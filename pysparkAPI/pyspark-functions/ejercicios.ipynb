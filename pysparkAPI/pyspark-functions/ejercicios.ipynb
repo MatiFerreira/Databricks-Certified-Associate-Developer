{
 "cells": [
  {
   "metadata": {},
   "cell_type": "markdown",
   "source": [
    "A partir del archivo csv Case, determine las tres ciudades con más casos confirmados de la enfermedad. La salida debe contener tres columnas: provincia, ciudad y casos confirmados. El resultado debe contener exactamente los tres nombre de ciudades con más casos confirmados ya que no se admiten otros valores.\n",
    "\n",
    "\n",
    "\n",
    "Cree un dataframe a partir del archivo csv PatientInfo. Asegúrese de que su dataframe no contenga pacientes duplicados.\n",
    "\n",
    "\n",
    "\n",
    "¿Cuántos pacientes tienen informado por quién se contagiaron(columna infected_by)? Obtenga solo los pacientes que tengan informado por quién se contagiaron.\n",
    "\n",
    "\n",
    "\n",
    "A partir de la salida del inciso anterior obtenga solo los pacientes femeninos. La salida no debe contener las columnas released_date y deceased_date.\n",
    "\n",
    "\n",
    "\n",
    "Establezca el número de particiones del dataframe resultante del inciso anterior en dos. Escriba el dataframe resultante en un archivo parquet. La salida debe estar particionada por la provincia y el modo de escritura debe ser overwrite."
   ],
   "id": "db93287f1c8d1411"
  },
  {
   "cell_type": "code",
   "id": "initial_id",
   "metadata": {
    "collapsed": true,
    "ExecuteTime": {
     "end_time": "2024-09-02T11:08:07.639366Z",
     "start_time": "2024-09-02T11:08:07.634283Z"
    }
   },
   "source": [
    "from pyspark.sql import SparkSession\n",
    "from pyspark.sql import functions as F\n",
    "from pyspark.sql.types import NullType\n",
    "\n",
    "spark = SparkSession.builder.getOrCreate()"
   ],
   "outputs": [],
   "execution_count": 19
  },
  {
   "metadata": {
    "ExecuteTime": {
     "end_time": "2024-09-02T11:39:42.533739Z",
     "start_time": "2024-09-02T11:39:42.413182Z"
    }
   },
   "cell_type": "code",
   "source": [
    "df_Cases = spark.read.options(header='true', inferSchema='true').csv('../datasets/Case.csv')\n",
    "df_Cases.show(5, truncate=False)"
   ],
   "id": "bb0eb7ef9251374d",
   "outputs": [
    {
     "name": "stdout",
     "output_type": "stream",
     "text": [
      "+--------+--------+------------+-----+---------------------------+---------+---------+----------+\n",
      "| case_id|province|city        |group|infection_case             |confirmed|latitude |longitude |\n",
      "+--------+--------+------------+-----+---------------------------+---------+---------+----------+\n",
      "|1000001 |Seoul   |Yongsan-gu  |true |Itaewon Clubs              |139      |37.538621|126.992652|\n",
      "|1000002 |Seoul   |Gwanak-gu   |true |Richway                    |119      |37.48208 |126.901384|\n",
      "|1000003 |Seoul   |Guro-gu     |true |Guro-gu Call Center        |95       |37.508163|126.884387|\n",
      "|1000004 |Seoul   |Yangcheon-gu|true |Yangcheon Table Tennis Club|43       |37.546061|126.874209|\n",
      "|1000005 |Seoul   |Dobong-gu   |true |Day Care Center            |43       |37.679422|127.044374|\n",
      "+--------+--------+------------+-----+---------------------------+---------+---------+----------+\n",
      "only showing top 5 rows\n",
      "\n"
     ]
    }
   ],
   "execution_count": 84
  },
  {
   "metadata": {
    "ExecuteTime": {
     "end_time": "2024-09-02T11:39:44.312400Z",
     "start_time": "2024-09-02T11:39:44.307709Z"
    }
   },
   "cell_type": "code",
   "source": "df_Cases.dtypes",
   "id": "e65d2854d166e8c9",
   "outputs": [
    {
     "data": {
      "text/plain": [
       "[(' case_id', 'int'),\n",
       " ('province', 'string'),\n",
       " ('city', 'string'),\n",
       " ('group', 'boolean'),\n",
       " ('infection_case', 'string'),\n",
       " ('confirmed', 'int'),\n",
       " ('latitude', 'string'),\n",
       " ('longitude', 'string')]"
      ]
     },
     "execution_count": 85,
     "metadata": {},
     "output_type": "execute_result"
    }
   ],
   "execution_count": 85
  },
  {
   "metadata": {
    "ExecuteTime": {
     "end_time": "2024-09-02T11:40:36.360380Z",
     "start_time": "2024-09-02T11:40:36.309874Z"
    }
   },
   "cell_type": "code",
   "source": [
    "dfClean = df_Cases.filter((F.col(\"city\") != \"-\") & (F.col(\"city\") != \"from other city\"))\n",
    "dfClean.show(1)"
   ],
   "id": "4b64fb4446d71cc4",
   "outputs": [
    {
     "name": "stdout",
     "output_type": "stream",
     "text": [
      "+--------+--------+----------+-----+--------------+---------+---------+----------+\n",
      "| case_id|province|      city|group|infection_case|confirmed| latitude| longitude|\n",
      "+--------+--------+----------+-----+--------------+---------+---------+----------+\n",
      "| 1000001|   Seoul|Yongsan-gu| true| Itaewon Clubs|      139|37.538621|126.992652|\n",
      "+--------+--------+----------+-----+--------------+---------+---------+----------+\n",
      "only showing top 1 row\n",
      "\n"
     ]
    }
   ],
   "execution_count": 89
  },
  {
   "metadata": {
    "ExecuteTime": {
     "end_time": "2024-09-02T12:03:03.802691Z",
     "start_time": "2024-09-02T12:03:03.749907Z"
    }
   },
   "cell_type": "code",
   "source": [
    "## TOP 3 CON MAS CONTAGIO SALIDA 3 COLUMNAS PROVINCIA,CIUDAD,CASOS CONFIMADO\n",
    "top_3 = dfClean.select(\"province\",\"city\",\"confirmed\").orderBy(F.col(\"confirmed\").desc()).show()"
   ],
   "id": "ea7499a98b69d9f5",
   "outputs": [
    {
     "name": "stdout",
     "output_type": "stream",
     "text": [
      "+-----------------+------------+---------+\n",
      "|         province|        city|confirmed|\n",
      "+-----------------+------------+---------+\n",
      "|            Daegu|      Nam-gu|     4511|\n",
      "|            Daegu|Dalseong-gun|      196|\n",
      "|            Seoul|  Yongsan-gu|      139|\n",
      "|            Daegu|      Seo-gu|      124|\n",
      "|            Seoul|   Gwanak-gu|      119|\n",
      "| Gyeongsangbuk-do|Cheongdo-gun|      119|\n",
      "|Chungcheongnam-do|  Cheonan-si|      103|\n",
      "|            Daegu|Dalseong-gun|      101|\n",
      "|            Seoul|     Guro-gu|       95|\n",
      "| Gyeongsangbuk-do| Bonghwa-gun|       68|\n",
      "|      Gyeonggi-do| Seongnam-si|       67|\n",
      "|      Gyeonggi-do|  Bucheon-si|       67|\n",
      "| Gyeongsangbuk-do|Gyeongsan-si|       66|\n",
      "|      Gyeonggi-do|Uijeongbu-si|       50|\n",
      "|            Seoul|Yangcheon-gu|       43|\n",
      "|            Seoul|   Dobong-gu|       43|\n",
      "|            Seoul|     Guro-gu|       41|\n",
      "| Gyeongsangbuk-do|  Yechun-gun|       40|\n",
      "|            Busan|  Dongnae-gu|       39|\n",
      "|            Daegu|     Dong-gu|       39|\n",
      "+-----------------+------------+---------+\n",
      "only showing top 20 rows\n",
      "\n"
     ]
    }
   ],
   "execution_count": 131
  },
  {
   "metadata": {
    "ExecuteTime": {
     "end_time": "2024-09-02T11:14:05.056853Z",
     "start_time": "2024-09-02T11:14:04.892998Z"
    }
   },
   "cell_type": "code",
   "source": "patientDF = spark.read.options(header='true', inferSchema='true').csv('../datasets/Patientinfo.csv')",
   "id": "9e10f89bc0348e8d",
   "outputs": [],
   "execution_count": 35
  },
  {
   "metadata": {
    "ExecuteTime": {
     "end_time": "2024-09-02T11:14:11.909410Z",
     "start_time": "2024-09-02T11:14:11.824778Z"
    }
   },
   "cell_type": "code",
   "source": "patientDF.show(5, truncate=False)",
   "id": "80af0f74e1717bf",
   "outputs": [
    {
     "name": "stdout",
     "output_type": "stream",
     "text": [
      "+----------+------+---+-------+--------+-----------+--------------------+-----------+--------------+------------------+--------------+-------------+-------------+--------+\n",
      "|patient_id|sex   |age|country|province|city       |infection_case      |infected_by|contact_number|symptom_onset_date|confirmed_date|released_date|deceased_date|state   |\n",
      "+----------+------+---+-------+--------+-----------+--------------------+-----------+--------------+------------------+--------------+-------------+-------------+--------+\n",
      "|1000000001|male  |50s|Korea  |Seoul   |Gangseo-gu |overseas inflow     |NULL       |75            |2020-01-22        |2020-01-23    |2020-02-05   |NULL         |released|\n",
      "|1000000002|male  |30s|Korea  |Seoul   |Jungnang-gu|overseas inflow     |NULL       |31            |NULL              |2020-01-30    |2020-03-02   |NULL         |released|\n",
      "|1000000003|male  |50s|Korea  |Seoul   |Jongno-gu  |contact with patient|2002000001 |17            |NULL              |2020-01-30    |2020-02-19   |NULL         |released|\n",
      "|1000000004|male  |20s|Korea  |Seoul   |Mapo-gu    |overseas inflow     |NULL       |9             |2020-01-26        |2020-01-30    |2020-02-15   |NULL         |released|\n",
      "|1000000005|female|20s|Korea  |Seoul   |Seongbuk-gu|contact with patient|1000000002 |2             |NULL              |2020-01-31    |2020-02-24   |NULL         |released|\n",
      "+----------+------+---+-------+--------+-----------+--------------------+-----------+--------------+------------------+--------------+-------------+-------------+--------+\n",
      "only showing top 5 rows\n",
      "\n"
     ]
    }
   ],
   "execution_count": 36
  },
  {
   "metadata": {
    "ExecuteTime": {
     "end_time": "2024-09-02T11:14:16.366732Z",
     "start_time": "2024-09-02T11:14:16.362935Z"
    }
   },
   "cell_type": "code",
   "source": "patientDF.dtypes",
   "id": "9e2de73931f61b35",
   "outputs": [
    {
     "data": {
      "text/plain": [
       "[('patient_id', 'bigint'),\n",
       " ('sex', 'string'),\n",
       " ('age', 'string'),\n",
       " ('country', 'string'),\n",
       " ('province', 'string'),\n",
       " ('city', 'string'),\n",
       " ('infection_case', 'string'),\n",
       " ('infected_by', 'string'),\n",
       " ('contact_number', 'string'),\n",
       " ('symptom_onset_date', 'string'),\n",
       " ('confirmed_date', 'date'),\n",
       " ('released_date', 'date'),\n",
       " ('deceased_date', 'date'),\n",
       " ('state', 'string')]"
      ]
     },
     "execution_count": 37,
     "metadata": {},
     "output_type": "execute_result"
    }
   ],
   "execution_count": 37
  },
  {
   "metadata": {
    "ExecuteTime": {
     "end_time": "2024-09-02T11:19:02.825923Z",
     "start_time": "2024-09-02T11:19:02.821186Z"
    }
   },
   "cell_type": "code",
   "source": "patientcleanDF = patientDF.distinct()",
   "id": "d73517c729c59096",
   "outputs": [],
   "execution_count": 45
  },
  {
   "metadata": {
    "ExecuteTime": {
     "end_time": "2024-09-02T11:22:35.546049Z",
     "start_time": "2024-09-02T11:22:35.337434Z"
    }
   },
   "cell_type": "code",
   "source": [
    "patientcleanDF = patientcleanDF.filter(F.col(\"infected_by\") != \"NULL\")\n",
    "patientcleanDF.show(5, truncate=False)"
   ],
   "id": "3fd18eed8f73da72",
   "outputs": [
    {
     "name": "stdout",
     "output_type": "stream",
     "text": [
      "+----------+------+----+-------+-----------------+--------------+--------------------+-----------+--------------+------------------+--------------+-------------+-------------+--------+\n",
      "|patient_id|sex   |age |country|province         |city          |infection_case      |infected_by|contact_number|symptom_onset_date|confirmed_date|released_date|deceased_date|state   |\n",
      "+----------+------+----+-------+-----------------+--------------+--------------------+-----------+--------------+------------------+--------------+-------------+-------------+--------+\n",
      "|2000000198|female|50s |Korea  |Gyeonggi-do      |Bucheon-si    |contact with patient|2000000167 |NULL          |NULL              |2020-03-13    |NULL         |NULL         |isolated|\n",
      "|2000000775|male  |30s |Korea  |Gyeonggi-do      |Gwangmyeong-si|contact with patient|2000000763 |NULL          |NULL              |2020-05-27    |NULL         |NULL         |isolated|\n",
      "|2000000797|female|10s |Korea  |Gyeonggi-do      |Gimpo-si      |contact with patient|2000000784 |NULL          |NULL              |2020-05-28    |NULL         |NULL         |isolated|\n",
      "|2000001075|NULL  |NULL|Korea  |Gyeonggi-do      |Suwon-si      |contact with patient|2000001062 |NULL          |NULL              |2020-06-17    |NULL         |NULL         |isolated|\n",
      "|4100000075|female|20s |Korea  |Chungcheongnam-do|Cheonan-si    |contact with patient|4100000033 |4             |2020-02-29        |2020-03-01    |2020-03-16   |NULL         |released|\n",
      "+----------+------+----+-------+-----------------+--------------+--------------------+-----------+--------------+------------------+--------------+-------------+-------------+--------+\n",
      "only showing top 5 rows\n",
      "\n"
     ]
    }
   ],
   "execution_count": 53
  },
  {
   "metadata": {
    "ExecuteTime": {
     "end_time": "2024-09-02T12:04:13.834109Z",
     "start_time": "2024-09-02T12:04:13.642927Z"
    }
   },
   "cell_type": "code",
   "source": "patientcleanDF.count()",
   "id": "669405e07746b269",
   "outputs": [
    {
     "data": {
      "text/plain": [
       "1346"
      ]
     },
     "execution_count": 133,
     "metadata": {},
     "output_type": "execute_result"
    }
   ],
   "execution_count": 133
  },
  {
   "metadata": {
    "ExecuteTime": {
     "end_time": "2024-09-02T11:49:02.264624Z",
     "start_time": "2024-09-02T11:49:02.254322Z"
    }
   },
   "cell_type": "code",
   "source": [
    "# A partir de la salida del inciso anterior obtenga solo los pacientes femeninos. La salida no debe contener las columnas released_date y deceased_date.\n",
    "patientFemenine = patientcleanDF.filter((F.col(\"sex\") == \"female\") & (F.col(\"sex\").isNotNull())).drop('released_date','deceased_date')"
   ],
   "id": "6f5fb217c112909b",
   "outputs": [],
   "execution_count": 101
  },
  {
   "metadata": {},
   "cell_type": "code",
   "source": [
    "# Establezca el número de particiones del dataframe resultante del inciso anterior en dos. Escriba el dataframe resultante en un archivo parquet. La salida debe estar particionada por la provincia y el modo de escritura debe ser overwrite.\n",
    "\n",
    "patientFemenine.coalesce(2).write.partitionBy('province').mode(\"overwrite\").parquet(\"../datasets/partition/\")"
   ],
   "id": "2d0b22384792c6c4",
   "outputs": [],
   "execution_count": null
  }
 ],
 "metadata": {
  "kernelspec": {
   "display_name": "Python 3",
   "language": "python",
   "name": "python3"
  },
  "language_info": {
   "codemirror_mode": {
    "name": "ipython",
    "version": 2
   },
   "file_extension": ".py",
   "mimetype": "text/x-python",
   "name": "python",
   "nbconvert_exporter": "python",
   "pygments_lexer": "ipython2",
   "version": "2.7.6"
  }
 },
 "nbformat": 4,
 "nbformat_minor": 5
}
