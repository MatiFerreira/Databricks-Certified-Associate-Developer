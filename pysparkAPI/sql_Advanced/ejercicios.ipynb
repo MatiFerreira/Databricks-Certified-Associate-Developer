{
 "cells": [
  {
   "metadata": {},
   "cell_type": "markdown",
   "source": [
    "Los datos adjuntos a esta lección forman parte de la base de datos Football Data from Transfermarkt de Kaggle. El conjunto de datos se compone de varios archivos CSV con información sobre competiciones, juegos, clubes, jugadores y apariciones.\n",
    "\n",
    "\n",
    "\n",
    "Determine los tres países con mayor número de jugadores(jugadores nacidos en ese país). El resultado debe estar ordenado de forma descendente.\n",
    "\n",
    "\n",
    "\n",
    "Obtenga la lista de jugadores con tarjeta roja. La salida debe contener dos columnas, el nombre de pila del jugador y la cantidad de tarjetas rojas que tiene.\n",
    "\n",
    "\n",
    "\n",
    "¿Cuántos juegos se jugaron en la Premier League? La salida debe contener dos columnas, el nombre de la liga y la cantidad de juegos que se jugaron en ella.\n",
    "\n",
    "\n",
    "\n",
    "Obtenga las tres ligas con mayor número de asistencia de público teniendo en cuenta todos los juegos que se jugaron en ellas. El resultado debe estar ordenado de forma descendente y tener dos columnas, el nombre de la liga y la asistencia total."
   ],
   "id": "51ea2dfb088cce29"
  },
  {
   "metadata": {
    "ExecuteTime": {
     "end_time": "2024-09-02T14:54:30.810246Z",
     "start_time": "2024-09-02T14:54:27.852437Z"
    }
   },
   "cell_type": "code",
   "source": [
    "from pyspark.sql import SparkSession\n",
    "\n",
    "spark = SparkSession.builder.getOrCreate()"
   ],
   "id": "15b19a04c253fe",
   "outputs": [],
   "execution_count": 2
  },
  {
   "cell_type": "code",
   "id": "initial_id",
   "metadata": {
    "collapsed": true,
    "ExecuteTime": {
     "end_time": "2024-09-02T14:56:39.730336Z",
     "start_time": "2024-09-02T14:56:39.418974Z"
    }
   },
   "source": [
    "df_Players = spark.read.csv(path=\"../datasets/players.csv\", header=True, inferSchema=True,sep=',')\n",
    "df_Players.show(5)"
   ],
   "outputs": [
    {
     "name": "stdout",
     "output_type": "stream",
     "text": [
      "+---------+---------------+-------------------+-------------------+----------------+----------------------+-------------+----------+--------------+-----+------------+-------------------+---------------------------+--------------------+\n",
      "|player_id|current_club_id|               name|        pretty_name|country_of_birth|country_of_citizenship|date_of_birth|  position|  sub_position| foot|height_in_cm|market_value_in_gbp|highest_market_value_in_gbp|                 url|\n",
      "+---------+---------------+-------------------+-------------------+----------------+----------------------+-------------+----------+--------------+-----+------------+-------------------+---------------------------+--------------------+\n",
      "|    38790|          28095|     dmitri-golubov|     Dmitri Golubov|           UdSSR|                Russia|   1985-06-24|    Attack|Centre-Forward| Both|         178|               NULL|                   675000.0|https://www.trans...|\n",
      "|   106539|          28095| aleksandr-vasiljev| Aleksandr Vasiljev|          Russia|                Russia|   1992-01-23|    Attack|  Right Winger|Right|         182|               NULL|                   225000.0|https://www.trans...|\n",
      "|   164389|           2288|      rory-donnelly|      Rory Donnelly|Northern Ireland|      Northern Ireland|   1992-02-18|    Attack|Centre-Forward|Right|         188|           113000.0|                   225000.0|https://www.trans...|\n",
      "|    45247|           1162|     damien-perquis|     Damien Perquis|          France|                France|   1986-03-08|Goalkeeper|    Goalkeeper|Right|         186|               NULL|                   900000.0|https://www.trans...|\n",
      "|    97205|          28095|nikita-bezlikhotnov|Nikita Bezlikhotnov|           UdSSR|                Russia|   1990-08-19|    Attack|  Right Winger|Right|         179|               NULL|                   675000.0|https://www.trans...|\n",
      "+---------+---------------+-------------------+-------------------+----------------+----------------------+-------------+----------+--------------+-----+------------+-------------------+---------------------------+--------------------+\n",
      "only showing top 5 rows\n",
      "\n"
     ]
    }
   ],
   "execution_count": 4
  },
  {
   "metadata": {
    "ExecuteTime": {
     "end_time": "2024-09-02T15:01:40.825417Z",
     "start_time": "2024-09-02T15:01:40.636117Z"
    }
   },
   "cell_type": "code",
   "source": [
    "from pyspark.sql.functions import desc,col\n",
    "\n",
    "top_3 = df_Players.groupby(\"country_of_birth\").count().orderBy(desc('count')).filter(col(\"country_of_birth\").isNotNull()).show(3)"
   ],
   "id": "422d4daf073cec73",
   "outputs": [
    {
     "name": "stdout",
     "output_type": "stream",
     "text": [
      "+----------------+-----+\n",
      "|country_of_birth|count|\n",
      "+----------------+-----+\n",
      "|          France| 1694|\n",
      "|           Spain| 1388|\n",
      "|           Italy| 1312|\n",
      "+----------------+-----+\n",
      "only showing top 3 rows\n",
      "\n"
     ]
    }
   ],
   "execution_count": 14
  }
 ],
 "metadata": {
  "kernelspec": {
   "display_name": "Python 3",
   "language": "python",
   "name": "python3"
  },
  "language_info": {
   "codemirror_mode": {
    "name": "ipython",
    "version": 2
   },
   "file_extension": ".py",
   "mimetype": "text/x-python",
   "name": "python",
   "nbconvert_exporter": "python",
   "pygments_lexer": "ipython2",
   "version": "2.7.6"
  }
 },
 "nbformat": 4,
 "nbformat_minor": 5
}
