{
 "cells": [
  {
   "cell_type": "code",
   "execution_count": 0,
   "metadata": {
    "application/vnd.databricks.v1+cell": {
     "cellMetadata": {
      "byteLimit": 2048000,
      "implicitDf": true,
      "rowLimit": 10000
     },
     "inputWidgets": {},
     "nuid": "9a3a6bea-6699-4737-82b1-801bc3e411be",
     "showTitle": false,
     "title": ""
    }
   },
   "outputs": [],
   "source": [
    "%sql\n",
    "CREATE\n",
    "TABLE\n",
    "IF\n",
    "NOT\n",
    "EXISTS\n",
    "smartphones\n",
    "(id INT, name STRING, brand STRING, year INT);\n",
    "\n",
    "INSERT\n",
    "INTO\n",
    "smartphones\n",
    "VALUES(1, 'iPhone 14', 'Apple', 2022),\n",
    "(2, 'iPhone 13', 'Apple', 2021),\n",
    "(3, 'iPhone 6', 'Apple', 2014),\n",
    "(4, 'iPad Air', 'Apple', 2013),\n",
    "(5, 'Galaxy S22', 'Samsung', 2022),\n",
    "(6, 'Galaxy Z Fold', 'Samsung', 2022),\n",
    "(7, 'Galaxy S9', 'Samsung', 2016),\n",
    "(8, '12 Pro', 'Xiaomi', 2022),\n",
    "(9, 'Redmi 11T Pro', 'Xiaomi', 2022),\n",
    "(10, 'Redmi Note 11', 'Xiaomi', 2021)\n"
   ]
  },
  {
   "cell_type": "code",
   "execution_count": 0,
   "metadata": {
    "application/vnd.databricks.v1+cell": {
     "cellMetadata": {
      "byteLimit": 2048000,
      "implicitDf": true,
      "rowLimit": 10000
     },
     "inputWidgets": {},
     "nuid": "bc701f9b-5d52-4079-b43b-e2fae58ba94d",
     "showTitle": false,
     "title": ""
    }
   },
   "outputs": [],
   "source": [
    "%sql\n",
    "---- VIEW\n",
    "\n",
    "CREATE\n",
    "VIEW\n",
    "view_apple_phones\n",
    "AS\n",
    "SELECT *\n",
    "FROM\n",
    "smartphones\n",
    "WHERE\n",
    "brand = 'Apple';"
   ]
  },
  {
   "cell_type": "code",
   "execution_count": 0,
   "metadata": {
    "application/vnd.databricks.v1+cell": {
     "cellMetadata": {
      "byteLimit": 2048000,
      "implicitDf": true,
      "rowLimit": 10000
     },
     "inputWidgets": {},
     "nuid": "90aa436f-33e4-442a-aa85-3899ddc17850",
     "showTitle": false,
     "title": ""
    }
   },
   "outputs": [],
   "source": [
    "%sql\n",
    "SELECT * FROM\n",
    "view_apple_phones;"
   ]
  },
  {
   "cell_type": "code",
   "execution_count": 0,
   "metadata": {
    "application/vnd.databricks.v1+cell": {
     "cellMetadata": {
      "byteLimit": 2048000,
      "implicitDf": true,
      "rowLimit": 10000
     },
     "inputWidgets": {},
     "nuid": "fb0d034a-7d39-42e1-b516-4004d97d2998",
     "showTitle": false,
     "title": ""
    }
   },
   "outputs": [],
   "source": [
    "%sql\n",
    "SHOW\n",
    "TABLES;"
   ]
  },
  {
   "cell_type": "code",
   "execution_count": 0,
   "metadata": {
    "application/vnd.databricks.v1+cell": {
     "cellMetadata": {
      "byteLimit": 2048000,
      "implicitDf": true,
      "rowLimit": 10000
     },
     "inputWidgets": {},
     "nuid": "c3145dde-aea0-4a89-9469-3e771c4d0b42",
     "showTitle": false,
     "title": ""
    }
   },
   "outputs": [],
   "source": [
    "%sql\n",
    "--- accessible\n",
    "CREATE\n",
    "TEMP\n",
    "VIEW\n",
    "temp_view_phones_brands\n",
    "AS\n",
    "SELECT\n",
    "DISTINCT\n",
    "brand\n",
    "FROM\n",
    "smartphones;\n",
    "\n",
    "SELECT * FROM\n",
    "temp_view_phones_brands;"
   ]
  },
  {
   "cell_type": "code",
   "execution_count": 0,
   "metadata": {
    "application/vnd.databricks.v1+cell": {
     "cellMetadata": {
      "byteLimit": 2048000,
      "implicitDf": true,
      "rowLimit": 10000
     },
     "inputWidgets": {},
     "nuid": "790f14a4-122a-4510-913e-ba6916bec240",
     "showTitle": false,
     "title": ""
    }
   },
   "outputs": [],
   "source": [
    "%sql\n",
    "SHOW\n",
    "TABLES;\n",
    "-- WE CAN SEE IS TERMPORARY"
   ]
  },
  {
   "cell_type": "code",
   "execution_count": 0,
   "metadata": {
    "application/vnd.databricks.v1+cell": {
     "cellMetadata": {
      "byteLimit": 2048000,
      "implicitDf": true,
      "rowLimit": 10000
     },
     "inputWidgets": {},
     "nuid": "61f570b4-e914-4c26-b526-f04d88d8959e",
     "showTitle": false,
     "title": ""
    }
   },
   "outputs": [],
   "source": [
    "%sql\n",
    "--- ACCESSIBLE WITHIN SESSION FOR THE CLUSTER FOR GLOBAL VIEW, IF RESTART THE CLUSTER THIS IS DISAPEAR.\n",
    "\n",
    "CREATE\n",
    "GLOBAL\n",
    "TEMP\n",
    "VIEW\n",
    "global_temp_view_latest_phones\n",
    "AS\n",
    "SELECT * FROM\n",
    "smartphones\n",
    "WHERE\n",
    "year > 2020\n",
    "ORDER\n",
    "BY\n",
    "year\n",
    "DESC;"
   ]
  },
  {
   "cell_type": "code",
   "execution_count": 0,
   "metadata": {
    "application/vnd.databricks.v1+cell": {
     "cellMetadata": {
      "byteLimit": 2048000,
      "implicitDf": true,
      "rowLimit": 10000
     },
     "inputWidgets": {},
     "nuid": "16f8af88-394c-43d2-83de-27cdcce9a624",
     "showTitle": false,
     "title": ""
    }
   },
   "outputs": [],
   "source": [
    "%sql\n",
    "SHOW\n",
    "TABLES\n",
    "IN\n",
    "global_temp;\n"
   ]
  },
  {
   "cell_type": "code",
   "execution_count": 0,
   "metadata": {
    "application/vnd.databricks.v1+cell": {
     "cellMetadata": {
      "byteLimit": 2048000,
      "implicitDf": true,
      "rowLimit": 10000
     },
     "inputWidgets": {},
     "nuid": "5daba30e-00d1-4503-9caf-82f719aadfa3",
     "showTitle": false,
     "title": ""
    }
   },
   "outputs": [],
   "source": [
    "%sql\n",
    "SELECT * FROM\n",
    "global_temp.global_temp_view_latest_phones;\n"
   ]
  }
 ],
 "metadata": {
  "application/vnd.databricks.v1+notebook": {
   "dashboards": [],
   "environmentMetadata": {
    "base_environment": "",
    "client": "1"
   },
   "language": "python",
   "notebookMetadata": {
    "mostRecentlyExecutedCommandWithImplicitDF": {
     "commandId": 1068543038797690,
     "dataframes": [
      "_sqldf"
     ]
    },
    "pythonIndentUnit": 4
   },
   "notebookName": "views",
   "widgets": {}
  }
 },
 "nbformat": 4,
 "nbformat_minor": 0
}
